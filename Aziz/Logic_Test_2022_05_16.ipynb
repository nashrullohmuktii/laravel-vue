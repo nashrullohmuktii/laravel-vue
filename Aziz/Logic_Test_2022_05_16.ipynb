{
  "nbformat": 4,
  "nbformat_minor": 0,
  "metadata": {
    "colab": {
      "name": "Logic Test_2022.05.16.ipynb",
      "provenance": [],
      "collapsed_sections": []
    },
    "kernelspec": {
      "name": "python3",
      "display_name": "Python 3"
    },
    "language_info": {
      "name": "python"
    }
  },
  "cells": [
    {
      "cell_type": "markdown",
      "source": [
        "1. Buatlah fungsi sebagai berikut :\n",
        "\tApabila terdapat int = 4, maka outputnya 24 (prosesnya : 4*3*2*1)\n",
        "  \n",
        "\tApabila terdapat int = 8, maka outputnya 40320 (prosesnya : 8*7*6*5*4*3*2*1)\n"
      ],
      "metadata": {
        "id": "KbuTaJAF549o"
      }
    },
    {
      "cell_type": "code",
      "execution_count": 137,
      "metadata": {
        "id": "PF2X2iuj5y5t",
        "colab": {
          "base_uri": "https://localhost:8080/"
        },
        "outputId": "b443d3c6-351d-4992-ef02-6e3c03028d75"
      },
      "outputs": [
        {
          "output_type": "stream",
          "name": "stdout",
          "text": [
            "input number = 8\n",
            "40320\n"
          ]
        }
      ],
      "source": [
        "#import math\n",
        "#a =4\n",
        "#faktorial = math.factorial(a)\n",
        "#print(faktorial)\n",
        "\n",
        "#a =8\n",
        "#faktorial = math.factorial(a)\n",
        "#print(faktorial)\n",
        "\n",
        "a = int(input('input number = '))\n",
        "b = 1\n",
        "\n",
        "for a in range(1, a+1):\n",
        "  b*=a\n",
        "print(b)"
      ]
    },
    {
      "cell_type": "code",
      "source": [
        "#a = 8\n",
        "#b = 1\n",
        "\n",
        "#for a in range(1, a+1):\n",
        "  #b*=a\n",
        "#print(b)"
      ],
      "metadata": {
        "colab": {
          "base_uri": "https://localhost:8080/"
        },
        "id": "PMUcD4E3RYPI",
        "outputId": "2a87d035-73ea-406e-d5d3-06cc115e8940"
      },
      "execution_count": 127,
      "outputs": [
        {
          "output_type": "stream",
          "name": "stdout",
          "text": [
            "40320\n"
          ]
        }
      ]
    },
    {
      "cell_type": "markdown",
      "source": [
        "Buatlah fungsi untuk reverse sebuah string\n",
        "\n",
        "Apabila input = “abcde”, maka outputnya = “edcba”\n",
        "\n",
        "Dilarang menggunakan function reverse, buatlah logika sendiri\n"
      ],
      "metadata": {
        "id": "3Oy9A6QePfNC"
      }
    },
    {
      "cell_type": "code",
      "source": [
        "c = str(input(\"writing = \"))\n",
        "def a(x):\n",
        "  return x[::-1]\n",
        "b = a(c)\n",
        "print(b)"
      ],
      "metadata": {
        "colab": {
          "base_uri": "https://localhost:8080/"
        },
        "id": "zwP3WEUjResQ",
        "outputId": "967579ec-15bc-416d-d1b1-bead4e10078e"
      },
      "execution_count": 139,
      "outputs": [
        {
          "output_type": "stream",
          "name": "stdout",
          "text": [
            "writing = abcd\n",
            "dcba\n"
          ]
        }
      ]
    },
    {
      "cell_type": "markdown",
      "source": [
        "Buatlah fungsi untuk menampilkan jumlah digit angka tergantung dimana posisi\n",
        "atau tempat dari angka dalam sebuah string “9.86-A5.321”!\n",
        "Contoh: printDigitValue(‘9.86-A5.321’);\n",
        "Hasil :\n",
        "9865321\n",
        "9000000\n",
        "800000\n",
        "60000\n",
        "5000\n",
        "300\n",
        "20\n",
        "1\n"
      ],
      "metadata": {
        "id": "qZ8LmJm3TeKG"
      }
    },
    {
      "cell_type": "code",
      "source": [
        "print(round(9.86))"
      ],
      "metadata": {
        "colab": {
          "base_uri": "https://localhost:8080/"
        },
        "id": "BN5v6l4YTuvM",
        "outputId": "4950cf34-96c8-405e-ab81-c44b1a5c2a50"
      },
      "execution_count": 131,
      "outputs": [
        {
          "output_type": "stream",
          "name": "stdout",
          "text": [
            "10\n"
          ]
        }
      ]
    },
    {
      "cell_type": "markdown",
      "source": [
        "Buatlah fungsi sebagai berikut :\n",
        "int : 4, maka outputnya adalah : empat\n",
        "int : 20, maka outputnya adalah : dua puluh\n",
        "int : 39, maka outputnya adalah : tiga puluh sembilan\n",
        "int : 104, maka outputnya adalah : silahkan masukkan bilangan 1-100\n"
      ],
      "metadata": {
        "id": "FvfzM2uQWTZz"
      }
    },
    {
      "cell_type": "code",
      "source": [
        "a = int(input('input number = '))\n",
        "if a == 4:\n",
        "  print(\"empat\")\n",
        "elif a ==20:\n",
        "  print(\"dua puluh\")\n",
        "elif a == 39:\n",
        "  print(\"tiga puluh sembilan\")\n",
        "else:\n",
        "  print(\"silahkan masukan bilangan 1-1000\")\n"
      ],
      "metadata": {
        "colab": {
          "base_uri": "https://localhost:8080/"
        },
        "id": "uunXmpm9WZdm",
        "outputId": "b1428433-3285-4305-f8a3-8f03d6cd9177"
      },
      "execution_count": 147,
      "outputs": [
        {
          "output_type": "stream",
          "name": "stdout",
          "text": [
            "input number = 104\n",
            "silahkan masukan bilangan 1-1000\n"
          ]
        }
      ]
    },
    {
      "cell_type": "markdown",
      "source": [
        "Apabila terdapat sebuah data : \n",
        "array data =  [1,4,7,9,12],\n",
        "int low = 2,\n",
        "int high = 15,\n",
        "maka akan menghasilkan ouput [4,7,9,12]\n"
      ],
      "metadata": {
        "id": "5RSjI1RaaIJ2"
      }
    },
    {
      "cell_type": "code",
      "source": [
        "a=[1,4,7,9,12]\n",
        "print(a[1:15])\n"
      ],
      "metadata": {
        "colab": {
          "base_uri": "https://localhost:8080/"
        },
        "id": "pd0WfhN3aPPu",
        "outputId": "22d6a708-70f2-41d3-8ef6-73a848c28a77"
      },
      "execution_count": 184,
      "outputs": [
        {
          "output_type": "stream",
          "name": "stdout",
          "text": [
            "[4, 7, 9, 12]\n"
          ]
        }
      ]
    }
  ]
}